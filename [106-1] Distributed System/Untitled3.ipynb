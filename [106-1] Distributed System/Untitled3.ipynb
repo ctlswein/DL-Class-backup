{
 "cells": [
  {
   "cell_type": "code",
   "execution_count": 1,
   "metadata": {},
   "outputs": [],
   "source": [
    "import pyspark\n",
    "from pyspark import SparkContext\n",
    "sc=SparkContext('local','spark')"
   ]
  },
  {
   "cell_type": "code",
   "execution_count": 2,
   "metadata": {},
   "outputs": [
    {
     "name": "stdout",
     "output_type": "stream",
     "text": [
      "Total records in the 2015.csv dataset: 2298\n",
      "The first line in the 2015.csv dataset: 410412347\t20140218\t201402\t2014\t2014.1315\t\t\t\t\t\t\t\t\t\t\tGOV\tPRESIDENT\t\t\t\t\t\tGOV\t\t\t0\t043\t043\t04\t1\t2.8\t5\t1\t5\t-4.4776119402985\t0\t\t\t\t\t\t\t\t4\tWaterkloof, Free State, South Africa\tSF\tSF03\t77359\t-30.3098\t25.2971\t-1299321\t4\tWaterkloof, Free State, South Africa\tSF\tSF03\t77359\t-30.3098\t25.2971\t-1299321\t20150218230000\thttp://www.dailymaverick.co.za/article/2015-02-19-sona2015-jamming-state-security-agency-steps-forward-blames-low-ranking-operator/\n"
     ]
    }
   ],
   "source": [
    "weather = sc.textFile(\"/home/w/protest.CSV\")\n",
    "print \"Total records in the 2015.csv dataset:\", weather.count()\n",
    "print \"The first line in the 2015.csv dataset:\", weather.first()"
   ]
  },
  {
   "cell_type": "code",
   "execution_count": 3,
   "metadata": {},
   "outputs": [
    {
     "data": {
      "text/plain": [
       "[u'410412347',\n",
       " u'20140218',\n",
       " u'201402',\n",
       " u'2014',\n",
       " u'2014.1315',\n",
       " u'',\n",
       " u'',\n",
       " u'',\n",
       " u'',\n",
       " u'',\n",
       " u'',\n",
       " u'',\n",
       " u'',\n",
       " u'',\n",
       " u'',\n",
       " u'GOV',\n",
       " u'PRESIDENT',\n",
       " u'',\n",
       " u'',\n",
       " u'',\n",
       " u'',\n",
       " u'',\n",
       " u'GOV',\n",
       " u'',\n",
       " u'',\n",
       " u'0',\n",
       " u'043',\n",
       " u'043',\n",
       " u'04',\n",
       " u'1',\n",
       " u'2.8',\n",
       " u'5',\n",
       " u'1',\n",
       " u'5',\n",
       " u'-4.4776119402985',\n",
       " u'0',\n",
       " u'',\n",
       " u'',\n",
       " u'',\n",
       " u'',\n",
       " u'',\n",
       " u'',\n",
       " u'',\n",
       " u'4',\n",
       " u'Waterkloof, Free State, South Africa',\n",
       " u'SF',\n",
       " u'SF03',\n",
       " u'77359',\n",
       " u'-30.3098',\n",
       " u'25.2971',\n",
       " u'-1299321',\n",
       " u'4',\n",
       " u'Waterkloof, Free State, South Africa',\n",
       " u'SF',\n",
       " u'SF03',\n",
       " u'77359',\n",
       " u'-30.3098',\n",
       " u'25.2971',\n",
       " u'-1299321',\n",
       " u'20150218230000',\n",
       " u'http://www.dailymaverick.co.za/article/2015-02-19-sona2015-jamming-state-security-agency-steps-forward-blames-low-ranking-operator/']"
      ]
     },
     "execution_count": 3,
     "metadata": {},
     "output_type": "execute_result"
    }
   ],
   "source": [
    "weatherParse = weather.map(lambda line : line.split(\"\\t\"))\n",
    "weatherParse.first()"
   ]
  },
  {
   "cell_type": "code",
   "execution_count": 4,
   "metadata": {},
   "outputs": [
    {
     "data": {
      "text/plain": [
       "u'201402'"
      ]
     },
     "execution_count": 4,
     "metadata": {},
     "output_type": "execute_result"
    }
   ],
   "source": [
    "weatherParse.first()[2]"
   ]
  },
  {
   "cell_type": "code",
   "execution_count": 5,
   "metadata": {},
   "outputs": [
    {
     "data": {
      "text/plain": [
       "(u'410412347', (2014, 1))"
      ]
     },
     "execution_count": 5,
     "metadata": {},
     "output_type": "execute_result"
    }
   ],
   "source": [
    "weatherParse = weather.map(lambda line : line.split(\"\\t\"))\n",
    "weatherPrecp = weatherParse.filter(lambda x: x[15] == \"GOV\")\n",
    "# x[0] is the station\n",
    "# x[3] is the precipitation value\n",
    "weatherPrecpCountByKey = weatherPrecp.map(lambda x : (x[0], (int(x[3]), 1)))\n",
    "weatherPrecpCountByKey.first()"
   ]
  },
  {
   "cell_type": "code",
   "execution_count": 6,
   "metadata": {},
   "outputs": [
    {
     "data": {
      "text/plain": [
       "[u'410412347',\n",
       " u'20140218',\n",
       " u'201402',\n",
       " u'2014',\n",
       " u'2014.1315',\n",
       " u'',\n",
       " u'',\n",
       " u'',\n",
       " u'',\n",
       " u'',\n",
       " u'',\n",
       " u'',\n",
       " u'',\n",
       " u'',\n",
       " u'',\n",
       " u'GOV',\n",
       " u'PRESIDENT',\n",
       " u'',\n",
       " u'',\n",
       " u'',\n",
       " u'',\n",
       " u'',\n",
       " u'GOV',\n",
       " u'',\n",
       " u'',\n",
       " u'0',\n",
       " u'043',\n",
       " u'043',\n",
       " u'04',\n",
       " u'1',\n",
       " u'2.8',\n",
       " u'5',\n",
       " u'1',\n",
       " u'5',\n",
       " u'-4.4776119402985',\n",
       " u'0',\n",
       " u'',\n",
       " u'',\n",
       " u'',\n",
       " u'',\n",
       " u'',\n",
       " u'',\n",
       " u'',\n",
       " u'4',\n",
       " u'Waterkloof, Free State, South Africa',\n",
       " u'SF',\n",
       " u'SF03',\n",
       " u'77359',\n",
       " u'-30.3098',\n",
       " u'25.2971',\n",
       " u'-1299321',\n",
       " u'4',\n",
       " u'Waterkloof, Free State, South Africa',\n",
       " u'SF',\n",
       " u'SF03',\n",
       " u'77359',\n",
       " u'-30.3098',\n",
       " u'25.2971',\n",
       " u'-1299321',\n",
       " u'20150218230000',\n",
       " u'http://www.dailymaverick.co.za/article/2015-02-19-sona2015-jamming-state-security-agency-steps-forward-blames-low-ranking-operator/']"
      ]
     },
     "execution_count": 6,
     "metadata": {},
     "output_type": "execute_result"
    }
   ],
   "source": [
    "weatherPrecp.first()"
   ]
  },
  {
   "cell_type": "code",
   "execution_count": null,
   "metadata": {},
   "outputs": [],
   "source": []
  }
 ],
 "metadata": {
  "kernelspec": {
   "display_name": "Python 2",
   "language": "python",
   "name": "python2"
  },
  "language_info": {
   "codemirror_mode": {
    "name": "ipython",
    "version": 2
   },
   "file_extension": ".py",
   "mimetype": "text/x-python",
   "name": "python",
   "nbconvert_exporter": "python",
   "pygments_lexer": "ipython2",
   "version": "2.7.12"
  }
 },
 "nbformat": 4,
 "nbformat_minor": 2
}
